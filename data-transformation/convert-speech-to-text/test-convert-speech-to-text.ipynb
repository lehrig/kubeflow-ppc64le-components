{
 "cells": [
  {
   "cell_type": "markdown",
   "id": "3ce0ca0c-7eb1-4d1b-8c62-b3bf77ba634f",
   "metadata": {},
   "source": [
    "# Component Test: Load Dataframe via Trino\n",
    "\n",
    "## Authors\n",
    "- Natalie Jann <natalie.jann@ibm.com>\n",
    "- Sebastian Lehrig <sebastian.lehrig1@ibm.com>\n",
    "\n",
    "\n",
    "## License\n",
    "Apache-2.0 License\n",
    "\n",
    "## Imports & Constants"
   ]
  },
  {
   "cell_type": "code",
   "execution_count": 1,
   "id": "fd0ee15c-1abb-463c-b183-f4ab4162fd89",
   "metadata": {},
   "outputs": [],
   "source": [
    "import kfp\n",
    "import kfp.dsl as dsl\n",
    "\n",
    "KFP_CLIENT = kfp.Client()\n",
    "\n",
    "with open(\"/var/run/secrets/kubernetes.io/serviceaccount/namespace\") as f:\n",
    "    NAMESPACE = f.read()\n",
    "NAMESPACE\n",
    "\n",
    "%load_ext lab_black"
   ]
  },
  {
   "cell_type": "markdown",
   "id": "39d39cb8-385b-404e-b9fe-e2522d1d88a8",
   "metadata": {},
   "source": [
    "## Create pipeline"
   ]
  },
  {
   "cell_type": "code",
   "execution_count": 4,
   "id": "b40d4161-16d2-4c55-82db-7128fae35fc5",
   "metadata": {},
   "outputs": [],
   "source": [
    "convert_speech_to_text_comp = kfp.components.load_component_from_file(\"component.yaml\")\n",
    "load_dataset_comp = kfp.components.load_component_from_file(\n",
    "    \"../../data-collection/load-huggingface-dataset/component.yaml\"\n",
    ")"
   ]
  },
  {
   "cell_type": "code",
   "execution_count": 5,
   "id": "1a466974-7328-4ecb-be25-23d5f380adfd",
   "metadata": {},
   "outputs": [],
   "source": [
    "@dsl.pipeline(\n",
    "    name=\"Component Test - Convert Speech To Text\",\n",
    "    description=\"A simple component test\",\n",
    ")\n",
    "def train_pipeline():\n",
    "    \n",
    "    load_dataset_task = load_dataset_comp(\n",
    "        path=\"google/fleurs\",\n",
    "        configuration=\"en_us\",\n",
    "        split=\"validation\",\n",
    "    )\n",
    "    convert_speech_to_text_task.add_node_selector_constraint(\n",
    "        \"worker_type\", \"baremetal_worker\"\n",
    "    )\n",
    "\n",
    "    convert_speech_to_text_comp(audio_dir=load_dataset_task.outputs[\"dataset_dir\"])\n",
    "    \n",
    "    convert_speech_to_text_task.add_node_selector_constraint(\n",
    "        \"worker_type\", \"baremetal_worker\"\n",
    "    )"
   ]
  },
  {
   "cell_type": "markdown",
   "id": "a9a6ae2c-8a19-4f6d-993b-b325916c5104",
   "metadata": {},
   "source": [
    "## Run the pipeline within an experiment"
   ]
  },
  {
   "cell_type": "code",
   "execution_count": 6,
   "id": "2a4b5869-2448-473d-b55e-3b6543e62c00",
   "metadata": {},
   "outputs": [
    {
     "data": {
      "text/html": [
       "<a href=\"/pipeline/#/experiments/details/5a8f5bcf-1dd6-4627-8126-37cc2350da48\" target=\"_blank\" >Experiment details</a>."
      ],
      "text/plain": [
       "<IPython.core.display.HTML object>"
      ]
     },
     "metadata": {},
     "output_type": "display_data"
    },
    {
     "data": {
      "text/html": [
       "<a href=\"/pipeline/#/runs/details/2589462d-4e21-49fe-9f04-9fec38560931\" target=\"_blank\" >Run details</a>."
      ],
      "text/plain": [
       "<IPython.core.display.HTML object>"
      ]
     },
     "metadata": {},
     "output_type": "display_data"
    },
    {
     "data": {
      "text/plain": [
       "RunPipelineResult(run_id=2589462d-4e21-49fe-9f04-9fec38560931)"
      ]
     },
     "execution_count": 6,
     "metadata": {},
     "output_type": "execute_result"
    }
   ],
   "source": [
    "KFP_CLIENT.create_run_from_pipeline_func(\n",
    "    train_pipeline, arguments={}, namespace=NAMESPACE\n",
    ")"
   ]
  },
  {
   "cell_type": "code",
   "execution_count": null,
   "id": "4637f317-3e09-44c5-b141-9aad69bb5050",
   "metadata": {},
   "outputs": [],
   "source": []
  }
 ],
 "metadata": {
  "kernelspec": {
   "display_name": "Python 3 (ipykernel)",
   "language": "python",
   "name": "python3"
  },
  "language_info": {
   "codemirror_mode": {
    "name": "ipython",
    "version": 3
   },
   "file_extension": ".py",
   "mimetype": "text/x-python",
   "name": "python",
   "nbconvert_exporter": "python",
   "pygments_lexer": "ipython3",
   "version": "3.9.16"
  }
 },
 "nbformat": 4,
 "nbformat_minor": 5
}
