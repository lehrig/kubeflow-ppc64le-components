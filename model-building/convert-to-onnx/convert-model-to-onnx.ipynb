{
 "cells": [
  {
   "cell_type": "markdown",
   "id": "1f20b995-81e6-46ae-952a-f36267ee6cea",
   "metadata": {},
   "source": [
    "# Convert Model to ONNX"
   ]
  },
  {
   "cell_type": "code",
   "execution_count": 1,
   "id": "7854aa8d-bc07-4932-9451-405363adee8f",
   "metadata": {},
   "outputs": [],
   "source": [
    "from kfp.components import create_component_from_func, InputPath, OutputPath\n",
    "\n",
    "%load_ext lab_black\n",
    "\n",
    "BASE_IMAGE = \"quay.io/ibm/kubeflow-notebook-image-ppc64le:latest\"\n",
    "\n",
    "\n",
    "def Convert_Model_to_ONNX(model_dir: InputPath(str), onnx_model_dir: OutputPath(str)):\n",
    "    \"\"\"Converts a model to ONNX format. Supported input formats: Keras.\"\"\"\n",
    "\n",
    "    import logging\n",
    "    import onnx\n",
    "    import sys\n",
    "    import tensorflow as tf\n",
    "    import tf2onnx\n",
    "\n",
    "    logging.basicConfig(\n",
    "        stream=sys.stdout,\n",
    "        level=logging.INFO,\n",
    "        format=\"%(levelname)s %(asctime)s: %(message)s\",\n",
    "    )\n",
    "    logger = logging.getLogger()\n",
    "\n",
    "    logger.info(f\"Loading model from '{model_dir}'...\")\n",
    "    keras_model = tf.keras.models.load_model(model_dir)\n",
    "\n",
    "    logger.info(\"Converting model to ONNX...\")\n",
    "    converted_model, _ = tf2onnx.convert.from_keras(keras_model)\n",
    "\n",
    "    logger.info(f\"Saving ONNX model to '{onnx_model_dir}'...\")\n",
    "    onnx.save_model(converted_model, onnx_model_dir)\n",
    "\n",
    "    logger.info(\"Finished.\")\n",
    "\n",
    "\n",
    "convert_model_to_onnx_comp = create_component_from_func(\n",
    "    func=Convert_Model_to_ONNX,\n",
    "    output_component_file=\"component.yaml\",\n",
    "    base_image=BASE_IMAGE,\n",
    ")"
   ]
  },
  {
   "cell_type": "code",
   "execution_count": null,
   "id": "b8198a3f-2f20-4c0b-9586-9cde1b0419a3",
   "metadata": {},
   "outputs": [],
   "source": []
  }
 ],
 "metadata": {
  "kernelspec": {
   "display_name": "Python 3 (ipykernel)",
   "language": "python",
   "name": "python3"
  },
  "language_info": {
   "codemirror_mode": {
    "name": "ipython",
    "version": 3
   },
   "file_extension": ".py",
   "mimetype": "text/x-python",
   "name": "python",
   "nbconvert_exporter": "python",
   "pygments_lexer": "ipython3",
   "version": "3.9.16"
  }
 },
 "nbformat": 4,
 "nbformat_minor": 5
}
