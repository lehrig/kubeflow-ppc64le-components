{
 "cells": [
  {
   "cell_type": "markdown",
   "metadata": {},
   "source": [
    "# Component Test: Create Data Drift Report\n",
    "\n",
    "## Authors\n",
    "- Adam Shedivy <Adam.Shedivy@ibm.com>\n",
    "- Sebastian Lehrig <sebastian.lehrig1@ibm.com>\n",
    "\n",
    "## License\n",
    "Apache-2.0 License"
   ]
  },
  {
   "cell_type": "code",
   "execution_count": 14,
   "metadata": {},
   "outputs": [],
   "source": [
    "import kfp\n",
    "from kfp import components\n",
    "from kfp.components import create_component_from_func, InputPath, OutputPath\n",
    "import os\n",
    "from pathlib import Path\n",
    "\n",
    "%load_ext lab_black"
   ]
  },
  {
   "cell_type": "code",
   "execution_count": 15,
   "metadata": {},
   "outputs": [
    {
     "data": {
      "text/plain": [
       "'user-example-com'"
      ]
     },
     "execution_count": 15,
     "metadata": {},
     "output_type": "execute_result"
    }
   ],
   "source": [
    "BASE_IMAGE = \"quay.io/ibm/kubeflow-notebook-image-ppc64le:latest\"\n",
    "\n",
    "with open(\"/var/run/secrets/kubernetes.io/serviceaccount/namespace\") as f:\n",
    "    NAMESPACE = f.read()\n",
    "NAMESPACE"
   ]
  },
  {
   "cell_type": "markdown",
   "metadata": {},
   "source": [
    "## Component to be tested"
   ]
  },
  {
   "cell_type": "code",
   "execution_count": 16,
   "metadata": {},
   "outputs": [
    {
     "ename": "OSError",
     "evalue": "[Errno 116] Stale file handle: 'component.yaml'",
     "output_type": "error",
     "traceback": [
      "\u001b[0;31m---------------------------------------------------------------------------\u001b[0m",
      "\u001b[0;31mOSError\u001b[0m                                   Traceback (most recent call last)",
      "Cell \u001b[0;32mIn [16], line 1\u001b[0m\n\u001b[0;32m----> 1\u001b[0m create_data_drift_report_comp \u001b[38;5;241m=\u001b[39m \u001b[43mcomponents\u001b[49m\u001b[38;5;241;43m.\u001b[39;49m\u001b[43mload_component_from_file\u001b[49m\u001b[43m(\u001b[49m\u001b[38;5;124;43m\"\u001b[39;49m\u001b[38;5;124;43mcomponent.yaml\u001b[39;49m\u001b[38;5;124;43m\"\u001b[39;49m\u001b[43m)\u001b[49m\n",
      "File \u001b[0;32m/opt/conda/lib/python3.8/site-packages/kfp/components/_components.py:104\u001b[0m, in \u001b[0;36mload_component_from_file\u001b[0;34m(filename)\u001b[0m\n\u001b[1;32m     94\u001b[0m \u001b[38;5;28;01mdef\u001b[39;00m \u001b[38;5;21mload_component_from_file\u001b[39m(filename):\n\u001b[1;32m     95\u001b[0m     \u001b[38;5;124;03m\"\"\"Loads component from file and creates a task factory function.\u001b[39;00m\n\u001b[1;32m     96\u001b[0m \n\u001b[1;32m     97\u001b[0m \u001b[38;5;124;03m    Args:\u001b[39;00m\n\u001b[0;32m   (...)\u001b[0m\n\u001b[1;32m    102\u001b[0m \u001b[38;5;124;03m        Once called with the required arguments, the factory constructs a pipeline task instance (ContainerOp).\u001b[39;00m\n\u001b[1;32m    103\u001b[0m \u001b[38;5;124;03m    \"\"\"\u001b[39;00m\n\u001b[0;32m--> 104\u001b[0m     component_spec \u001b[38;5;241m=\u001b[39m \u001b[43m_load_component_spec_from_file\u001b[49m\u001b[43m(\u001b[49m\u001b[43mpath\u001b[49m\u001b[38;5;241;43m=\u001b[39;49m\u001b[43mfilename\u001b[49m\u001b[43m)\u001b[49m\n\u001b[1;32m    105\u001b[0m     \u001b[38;5;28;01mreturn\u001b[39;00m _create_task_factory_from_component_spec(\n\u001b[1;32m    106\u001b[0m         component_spec\u001b[38;5;241m=\u001b[39mcomponent_spec,\n\u001b[1;32m    107\u001b[0m         component_filename\u001b[38;5;241m=\u001b[39mfilename,\n\u001b[1;32m    108\u001b[0m     )\n",
      "File \u001b[0;32m/opt/conda/lib/python3.8/site-packages/kfp/components/_components.py:154\u001b[0m, in \u001b[0;36m_load_component_spec_from_file\u001b[0;34m(path)\u001b[0m\n\u001b[1;32m    153\u001b[0m \u001b[38;5;28;01mdef\u001b[39;00m \u001b[38;5;21m_load_component_spec_from_file\u001b[39m(path) \u001b[38;5;241m-\u001b[39m\u001b[38;5;241m>\u001b[39m ComponentSpec:\n\u001b[0;32m--> 154\u001b[0m     \u001b[38;5;28;01mwith\u001b[39;00m \u001b[38;5;28;43mopen\u001b[39;49m\u001b[43m(\u001b[49m\u001b[43mpath\u001b[49m\u001b[43m,\u001b[49m\u001b[43m \u001b[49m\u001b[38;5;124;43m'\u001b[39;49m\u001b[38;5;124;43mrb\u001b[39;49m\u001b[38;5;124;43m'\u001b[39;49m\u001b[43m)\u001b[49m \u001b[38;5;28;01mas\u001b[39;00m component_stream:\n\u001b[1;32m    155\u001b[0m         \u001b[38;5;28;01mreturn\u001b[39;00m _load_component_spec_from_yaml_or_zip_bytes(\n\u001b[1;32m    156\u001b[0m             component_stream\u001b[38;5;241m.\u001b[39mread())\n",
      "\u001b[0;31mOSError\u001b[0m: [Errno 116] Stale file handle: 'component.yaml'"
     ]
    }
   ],
   "source": [
    "create_data_drift_report_comp = components.load_component_from_file(\"component.yaml\")"
   ]
  },
  {
   "cell_type": "markdown",
   "metadata": {},
   "source": [
    "### Test CSV data type"
   ]
  },
  {
   "cell_type": "code",
   "execution_count": 53,
   "metadata": {},
   "outputs": [],
   "source": [
    "chicago_taxi_dataset_comp = components.load_component_from_url(\n",
    "    \"https://raw.githubusercontent.com/kubeflow/pipelines/e3337b8bdcd63636934954e592d4b32c95b49129/components/datasets/Chicago%20Taxi/component.yaml\"\n",
    ")\n",
    "\n",
    "\n",
    "@kfp.dsl.pipeline(name=\"test-dq-pipeline-csv\")\n",
    "def test_pipeline():\n",
    "    training_data_csv = chicago_taxi_dataset_comp(\n",
    "        where='trip_start_timestamp >= \"2019-01-01\" AND trip_start_timestamp < \"2019-01-10\"',\n",
    "        select=\"tips,trip_seconds,trip_miles,pickup_community_area,dropoff_community_area,fare,tolls,extras,trip_total\",\n",
    "        limit=10000,\n",
    "    ).output\n",
    "\n",
    "    report = create_data_drift_report_comp(\n",
    "        dataset_dir=training_data_csv, dataset_type=\"csv\"\n",
    "    ).output"
   ]
  },
  {
   "cell_type": "code",
   "execution_count": 25,
   "metadata": {},
   "outputs": [
    {
     "data": {
      "text/html": [
       "<a href=\"/pipeline/#/experiments/details/6f189cc3-98f2-4594-bfb2-c9688a1ec5c3\" target=\"_blank\" >Experiment details</a>."
      ],
      "text/plain": [
       "<IPython.core.display.HTML object>"
      ]
     },
     "metadata": {},
     "output_type": "display_data"
    },
    {
     "data": {
      "text/html": [
       "<a href=\"/pipeline/#/runs/details/293406a7-adec-4ca8-b7e6-4ab5e899f292\" target=\"_blank\" >Run details</a>."
      ],
      "text/plain": [
       "<IPython.core.display.HTML object>"
      ]
     },
     "metadata": {},
     "output_type": "display_data"
    },
    {
     "data": {
      "text/plain": [
       "RunPipelineResult(run_id=293406a7-adec-4ca8-b7e6-4ab5e899f292)"
      ]
     },
     "execution_count": 25,
     "metadata": {},
     "output_type": "execute_result"
    }
   ],
   "source": [
    "kfp.Client().create_run_from_pipeline_func(\n",
    "    test_pipeline, arguments={}\n",
    ")"
   ]
  },
  {
   "cell_type": "markdown",
   "metadata": {},
   "source": [
    "### Test dataframe (pickle) data type"
   ]
  },
  {
   "cell_type": "code",
   "execution_count": 54,
   "metadata": {},
   "outputs": [],
   "source": [
    "def load_dataframe(output_dir: OutputPath(str)) -> None:\n",
    "\n",
    "    from sklearn import datasets\n",
    "    from pathlib import Path\n",
    "\n",
    "    iris_data = datasets.load_iris(as_frame=True)\n",
    "    Path(output_dir).parent.mkdir(parents=True, exist_ok=True)\n",
    "\n",
    "    iris_data.frame.to_pickle(output_dir)\n",
    "\n",
    "\n",
    "load_iris_data = create_component_from_func(\n",
    "    load_dataframe,\n",
    "    base_image=BASE_IMAGE,\n",
    ")\n",
    "\n",
    "\n",
    "@kfp.dsl.pipeline(name=\"test-dq-pipeline-dataframe\")\n",
    "def test_load_dataframe():\n",
    "    iris_data = load_iris_data().output\n",
    "\n",
    "    report = create_data_drift_report_comp(dataset_dir=iris_data)"
   ]
  },
  {
   "cell_type": "code",
   "execution_count": 42,
   "metadata": {},
   "outputs": [
    {
     "data": {
      "text/html": [
       "<a href=\"/pipeline/#/experiments/details/6f189cc3-98f2-4594-bfb2-c9688a1ec5c3\" target=\"_blank\" >Experiment details</a>."
      ],
      "text/plain": [
       "<IPython.core.display.HTML object>"
      ]
     },
     "metadata": {},
     "output_type": "display_data"
    },
    {
     "data": {
      "text/html": [
       "<a href=\"/pipeline/#/runs/details/1da92c62-cf1b-4726-b421-1e8c18d8f43a\" target=\"_blank\" >Run details</a>."
      ],
      "text/plain": [
       "<IPython.core.display.HTML object>"
      ]
     },
     "metadata": {},
     "output_type": "display_data"
    },
    {
     "data": {
      "text/plain": [
       "RunPipelineResult(run_id=1da92c62-cf1b-4726-b421-1e8c18d8f43a)"
      ]
     },
     "execution_count": 42,
     "metadata": {},
     "output_type": "execute_result"
    }
   ],
   "source": [
    "kfp.Client().create_run_from_pipeline_func(test_load_dataframe, arguments={})"
   ]
  },
  {
   "cell_type": "markdown",
   "metadata": {},
   "source": [
    "### Test Huggingface datasets data type"
   ]
  },
  {
   "cell_type": "code",
   "execution_count": 70,
   "metadata": {},
   "outputs": [],
   "source": [
    "load_huggingface_dataset_comp = components.load_component_from_file(\n",
    "    f\"{os.getenv('HOME')}/components/data-collection/load-huggingface-dataset/component.yaml\"\n",
    ")\n",
    "\n",
    "\n",
    "@kfp.dsl.pipeline(name=\"test-dq-pipeline-huggingface\")\n",
    "def test_load_huggingface():\n",
    "    huggingface_dataset = load_huggingface_dataset_comp(\n",
    "        path=\"glue\", configuration=\"mrpc\", split=\"train\"\n",
    "    ).outputs[\"dataset_dir\"]\n",
    "\n",
    "    report = create_data_drift_report_comp(\n",
    "        dataset_dir=huggingface_dataset,\n",
    "        dataset_type=\"huggingface\",\n",
    "    )"
   ]
  },
  {
   "cell_type": "code",
   "execution_count": 71,
   "metadata": {},
   "outputs": [
    {
     "data": {
      "text/html": [
       "<a href=\"/pipeline/#/experiments/details/6f189cc3-98f2-4594-bfb2-c9688a1ec5c3\" target=\"_blank\" >Experiment details</a>."
      ],
      "text/plain": [
       "<IPython.core.display.HTML object>"
      ]
     },
     "metadata": {},
     "output_type": "display_data"
    },
    {
     "data": {
      "text/html": [
       "<a href=\"/pipeline/#/runs/details/53390494-a92c-496f-ac59-088f10bf4d04\" target=\"_blank\" >Run details</a>."
      ],
      "text/plain": [
       "<IPython.core.display.HTML object>"
      ]
     },
     "metadata": {},
     "output_type": "display_data"
    },
    {
     "data": {
      "text/plain": [
       "RunPipelineResult(run_id=53390494-a92c-496f-ac59-088f10bf4d04)"
      ]
     },
     "execution_count": 71,
     "metadata": {},
     "output_type": "execute_result"
    }
   ],
   "source": [
    "kfp.Client().create_run_from_pipeline_func(test_load_huggingface, arguments={})"
   ]
  },
  {
   "cell_type": "code",
   "execution_count": null,
   "metadata": {},
   "outputs": [],
   "source": []
  }
 ],
 "metadata": {
  "kernelspec": {
   "display_name": "Python 3 (ipykernel)",
   "language": "python",
   "name": "python3"
  },
  "language_info": {
   "codemirror_mode": {
    "name": "ipython",
    "version": 3
   },
   "file_extension": ".py",
   "mimetype": "text/x-python",
   "name": "python",
   "nbconvert_exporter": "python",
   "pygments_lexer": "ipython3",
   "version": "3.8.13"
  },
  "vscode": {
   "interpreter": {
    "hash": "cfa3bc2375f864739603e288c05d4bfd658f5dbc82f0120480866d89037421e0"
   }
  }
 },
 "nbformat": 4,
 "nbformat_minor": 4
}
